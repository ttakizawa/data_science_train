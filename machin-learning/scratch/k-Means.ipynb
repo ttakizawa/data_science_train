{
 "cells": [
  {
   "cell_type": "markdown",
   "metadata": {},
   "source": [
    "## k-Means法\n",
    "アルゴリズム\n",
    "1. 各クラスタに割り当てられた点について重心を計算する\n",
    "2. 各点について、上記で計算された重心からの距離を計算し、距離が一番近いクラスタに割り当て直す。"
   ]
  },
  {
   "cell_type": "code",
   "execution_count": 1,
   "metadata": {
    "collapsed": true
   },
   "outputs": [],
   "source": [
    "import numpy as np\n",
    "import itertools"
   ]
  },
  {
   "cell_type": "code",
   "execution_count": 4,
   "metadata": {
    "collapsed": false
   },
   "outputs": [],
   "source": [
    "class KMeans:\n",
    "    def __init__(self, n_clusters, max_iter=1000, random_seed=0):\n",
    "        self.n_clusters = n_clusters\n",
    "        self.max_iter = max_iter\n",
    "        self.random_state = np.random.RandomState(random_seed)\n",
    "        \n",
    "    def fit(self, X):\n",
    "        cycle = itertools.cycle(range(self.n_clusters))\n",
    "        self.labels_ = np.fromiter(\n",
    "                itertools.islice(cycle, X.shape[0]), dtype=np.int)\n",
    "        \n",
    "        self.random_state.shuffle(self.labels_)\n",
    "        labels_prev = np.zeros(X.shape[0])\n",
    "        count = 0\n",
    "        self.cluster_centers_ = np.zeros(\n",
    "                (self.n_clusters, X.shape[1]))\n",
    "        while (not (self.labels_ == labels_prev).all()\n",
    "                  and count < self.max_iter):\n",
    "            for i in range(self.n_clusters):\n",
    "                # クラスタ中心の計算\n",
    "                XX = X[self.labels_ == i, :]\n",
    "                self.cluster_centers_[i, :] = XX.mean(axis=0)\n",
    "            #距離の計算\n",
    "            dist = ((X[:, :, np.newaxis]\n",
    "                            - self.cluster_centers_.T[np.newaxis, :, :])**2).sum(axis=1)\n",
    "            labels_prev = self.labels_\n",
    "            self.labels_ = dist.argmin(axis=1)\n",
    "            count += 1\n",
    "            \n",
    "    def predict(self, X):\n",
    "        dist = ((X[:, :, np.newaxis]\n",
    "                            - self.cluster_centers_.T[np.newaxis, :, :])**2).sum(axis=1)\n",
    "        labels = dist.argmin(axis=1)\n",
    "        return labels"
   ]
  },
  {
   "cell_type": "code",
   "execution_count": 5,
   "metadata": {
    "collapsed": true
   },
   "outputs": [],
   "source": [
    "import matplotlib.pyplot as plt\n",
    "%matplotlib inline"
   ]
  },
  {
   "cell_type": "code",
   "execution_count": 6,
   "metadata": {
    "collapsed": false
   },
   "outputs": [
    {
     "data": {
      "image/png": "[encoded data removed]",
      "text/plain": [
       "<matplotlib.figure.Figure at 0x1101108d0>"
      ]
     },
     "metadata": {},
     "output_type": "display_data"
    }
   ],
   "source": [
    "np.random.seed(0)\n",
    "points1 = np.random.randn(50, 2)\n",
    "points2 = np.random.randn(50, 2) + np.array([5, 0])\n",
    "points3 = np.random.randn(50, 2) + np.array([5, 5])\n",
    "\n",
    "points = np.r_[points1, points2, points3]\n",
    "np.random.shuffle(points)\n",
    "\n",
    "model = KMeans(3)\n",
    "model.fit(points)\n",
    "\n",
    "markers = [\"+\", \"*\", \"o\"]\n",
    "colors = [\"r\", \"b\", \"y\"]\n",
    "for i in range(3):\n",
    "    p = points[model.labels_ == i, :]\n",
    "    plt.scatter(p[:, 0], p[:, 1], color=colors[i], marker=markers[i])"
   ]
  },
  {
   "cell_type": "code",
   "execution_count": null,
   "metadata": {
    "collapsed": true
   },
   "outputs": [],
   "source": []
  }
 ],
 "metadata": {
  "kernelspec": {
   "display_name": "Python [conda root]",
   "language": "python",
   "name": "conda-root-py"
  },
  "language_info": {
   "codemirror_mode": {
    "name": "ipython",
    "version": 3
   },
   "file_extension": ".py",
   "mimetype": "text/x-python",
   "name": "python",
   "nbconvert_exporter": "python",
   "pygments_lexer": "ipython3",
   "version": "3.5.2"
  }
 },
 "nbformat": 4,
 "nbformat_minor": 1
}
