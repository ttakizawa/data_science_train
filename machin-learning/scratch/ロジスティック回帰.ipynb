{
 "cells": [
  {
   "cell_type": "markdown",
   "metadata": {},
   "source": [
    "### ロジスティック回帰"
   ]
  },
  {
   "cell_type": "code",
   "execution_count": 1,
   "metadata": {
    "collapsed": true
   },
   "outputs": [],
   "source": [
    "import numpy as np\n",
    "from scipy import linalg\n",
    "\n",
    "THRESHMIN = 1e-10"
   ]
  },
  {
   "cell_type": "code",
   "execution_count": 2,
   "metadata": {
    "collapsed": true
   },
   "outputs": [],
   "source": [
    "def sigmoid(x):\n",
    "    return 1 / (1 + np.exp(-x))"
   ]
  },
  {
   "cell_type": "code",
   "execution_count": 3,
   "metadata": {
    "collapsed": true
   },
   "outputs": [],
   "source": [
    "class LogisticRegression:\n",
    "    def __init__(self, tol= 0.001, max_iter=3, random_seed=0):\n",
    "        self.tol = tol\n",
    "        self.max_iter = max_iter\n",
    "        self.random_state = np.random.RandomState(random_seed)\n",
    "        self.w_ = None\n",
    "        \n",
    "    def fit(self, X, y):\n",
    "        self.w_ = self.random_state.randn(X.shape[1] + 1)\n",
    "        Xtil = np.c_[np.ones(X.shape[0]), X]\n",
    "        diff = np.inf\n",
    "        w_prev = self.w_\n",
    "        while diff > self.tol and iter < self.max_iter:\n",
    "            yhat = sigmoid(np.dot(Xtil, self.w_))\n",
    "            r = np.clip(yhat * (1- yhat),\n",
    "                               THRESHMIN, np.inf)\n",
    "            XR = Xtil.T * r\n",
    "            XRX = np.dot(Xtil.T * r, Xtil)\n",
    "            w_prev = self.w_\n",
    "            b = np.dot(XR, np.dot(Xtil, self.w_) - \n",
    "                                      1 / r * (yhat - y))\n",
    "            self.w_ = linalg.solve(XRX, b)\n",
    "            diff = abs(w_prev - self.w_).mean()\n",
    "            iter += 1\n",
    "            \n",
    "    def predict(self, X):\n",
    "        Xtil = np.c_[np.ones(X.shape[0]), X]\n",
    "        yhat = sigmoid(np.dot(Xtil, self.w_))\n",
    "        return np.where(yhat > .5, 1, 0)"
   ]
  },
  {
   "cell_type": "code",
   "execution_count": null,
   "metadata": {
    "collapsed": true
   },
   "outputs": [],
   "source": []
  }
 ],
 "metadata": {
  "anaconda-cloud": {},
  "kernelspec": {
   "display_name": "Python [conda root]",
   "language": "python",
   "name": "conda-root-py"
  },
  "language_info": {
   "codemirror_mode": {
    "name": "ipython",
    "version": 3
   },
   "file_extension": ".py",
   "mimetype": "text/x-python",
   "name": "python",
   "nbconvert_exporter": "python",
   "pygments_lexer": "ipython3",
   "version": "3.5.2"
  }
 },
 "nbformat": 4,
 "nbformat_minor": 1
}
