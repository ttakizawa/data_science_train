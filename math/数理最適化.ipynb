{
 "cells": [
  {
   "cell_type": "code",
   "execution_count": 1,
   "metadata": {
    "collapsed": true
   },
   "outputs": [],
   "source": [
    "import numpy as np\n",
    "from scipy import optimize"
   ]
  },
  {
   "cell_type": "markdown",
   "metadata": {},
   "source": [
    "### 線形計画法"
   ]
  },
  {
   "cell_type": "code",
   "execution_count": 3,
   "metadata": {
    "collapsed": false
   },
   "outputs": [
    {
     "name": "stdout",
     "output_type": "stream",
     "text": [
      "[400. 200.]\n",
      "-2000.0\n"
     ]
    }
   ],
   "source": [
    "c = np.array([-3, -4], dtype=np.float64)\n",
    "G = np.array([[1, 4], [2, 3], [2, 1], [-1, 0], [0, -1]])\n",
    "h = np.array([1700, 1400, 1000, 0, 0], np.float64)\n",
    "\n",
    "sol = optimize.linprog(c, A_ub=G, b_ub=h, bounds=(0, None))\n",
    "\n",
    "print(sol.x)\n",
    "print(sol.fun)"
   ]
  },
  {
   "cell_type": "markdown",
   "metadata": {},
   "source": [
    "### ２次計画法"
   ]
  },
  {
   "cell_type": "code",
   "execution_count": 8,
   "metadata": {
    "collapsed": false
   },
   "outputs": [
    {
     "name": "stdout",
     "output_type": "stream",
     "text": [
      "Collecting cvxopt\n",
      "\u001b[?25l  Downloading https://files.pythonhosted.org/packages/a8/2a/d55c5dfd9286f73903675c76556af59e4373eb3e5e08ba02252c41e8c3e6/cvxopt-1.2.2-cp35-cp35m-macosx_10_6_intel.macosx_10_9_intel.macosx_10_9_x86_64.macosx_10_10_intel.macosx_10_10_x86_64.whl (5.7MB)\n",
      "\u001b[K    100% |████████████████████████████████| 5.7MB 3.3MB/s \n",
      "\u001b[?25hInstalling collected packages: cvxopt\n",
      "Successfully installed cvxopt-1.2.2\n",
      "\u001b[33mYou are using pip version 18.0, however version 18.1 is available.\n",
      "You should consider upgrading via the 'pip install --upgrade pip' command.\u001b[0m\n"
     ]
    }
   ],
   "source": [
    "!pip install cvxopt"
   ]
  },
  {
   "cell_type": "code",
   "execution_count": 9,
   "metadata": {
    "collapsed": false
   },
   "outputs": [],
   "source": [
    "import cvxopt"
   ]
  },
  {
   "cell_type": "code",
   "execution_count": 12,
   "metadata": {
    "collapsed": false
   },
   "outputs": [
    {
     "name": "stdout",
     "output_type": "stream",
     "text": [
      "[[ 1.57009246e-16]\n",
      " [-2.00000000e+00]]\n",
      "-4.0\n"
     ]
    }
   ],
   "source": [
    "P = cvxopt.matrix(np.array([[2, 1], [1, 2]], dtype=np.float64))\n",
    "q = cvxopt.matrix(np.array([2, 4], dtype=np.float64))\n",
    "\n",
    "sol =cvxopt.solvers.qp(P, q)\n",
    "\n",
    "print(np.array(sol['x']))\n",
    "print(np.array(sol['primal objective']))"
   ]
  },
  {
   "cell_type": "code",
   "execution_count": 15,
   "metadata": {
    "collapsed": false
   },
   "outputs": [
    {
     "name": "stdout",
     "output_type": "stream",
     "text": [
      "[[ 1.]\n",
      " [-1.]]\n",
      "-1.0000000000000013\n"
     ]
    }
   ],
   "source": [
    "# 制約付き\n",
    "P = cvxopt.matrix(np.array([[2, 1], [1, 2]], dtype=np.float64))\n",
    "q = cvxopt.matrix(np.array([2, 4], dtype=np.float64))\n",
    "A = cvxopt.matrix(np.array([[1, 1]], dtype=np.float64))\n",
    "b = cvxopt.matrix(np.array([0], dtype=np.float64))\n",
    "\n",
    "sol =cvxopt.solvers.qp(P, q, A=A, b=b)\n",
    "\n",
    "print(np.array(sol['x']))\n",
    "print(np.array(sol['primal objective']))"
   ]
  },
  {
   "cell_type": "code",
   "execution_count": 16,
   "metadata": {
    "collapsed": false
   },
   "outputs": [
    {
     "name": "stdout",
     "output_type": "stream",
     "text": [
      "     pcost       dcost       gap    pres   dres\n",
      " 0:  1.8858e+00  2.9758e-01  2e+00  0e+00  2e+00\n",
      " 1: -2.1066e+00 -2.1546e+00  5e-02  2e-16  7e-01\n",
      " 2: -3.9999e+00 -4.0665e+00  7e-02  6e-16  8e-17\n",
      " 3: -4.0000e+00 -4.0007e+00  7e-04  9e-16  1e-16\n",
      " 4: -4.0000e+00 -4.0000e+00  7e-06  3e-16  6e-17\n",
      " 5: -4.0000e+00 -4.0000e+00  7e-08  3e-16  2e-16\n",
      "Optimal solution found.\n",
      "[[-2.45940165e-09]\n",
      " [-2.00000001e+00]]\n",
      "-4.0\n"
     ]
    }
   ],
   "source": [
    "P = cvxopt.matrix(np.array([[2, 1], [1, 2]], dtype=np.float64))\n",
    "q = cvxopt.matrix(np.array([2, 4], dtype=np.float64))\n",
    "G = cvxopt.matrix(np.array([[2, 3]], dtype=np.float64))\n",
    "h = cvxopt.matrix(np.array([3], dtype=np.float64))\n",
    "\n",
    "sol =cvxopt.solvers.qp(P, q, G=G, h=h)\n",
    "\n",
    "print(np.array(sol['x']))\n",
    "print(np.array(sol['primal objective']))"
   ]
  },
  {
   "cell_type": "code",
   "execution_count": null,
   "metadata": {
    "collapsed": true
   },
   "outputs": [],
   "source": []
  }
 ],
 "metadata": {
  "kernelspec": {
   "display_name": "Python [conda root]",
   "language": "python",
   "name": "conda-root-py"
  },
  "language_info": {
   "codemirror_mode": {
    "name": "ipython",
    "version": 3
   },
   "file_extension": ".py",
   "mimetype": "text/x-python",
   "name": "python",
   "nbconvert_exporter": "python",
   "pygments_lexer": "ipython3",
   "version": "3.5.2"
  }
 },
 "nbformat": 4,
 "nbformat_minor": 1
}
