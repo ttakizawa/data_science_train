{
 "cells": [
  {
   "cell_type": "markdown",
   "metadata": {},
   "source": [
    "### ニュートン法"
   ]
  },
  {
   "cell_type": "code",
   "execution_count": 1,
   "metadata": {
    "collapsed": true
   },
   "outputs": [],
   "source": [
    "def newton1dim(f, df, x0, eps=1e-10, max_iter=1000):\n",
    "    x = x0\n",
    "    iter = 0\n",
    "    while True:\n",
    "        x_new = x - f(x) / df(x)\n",
    "        if abs(x_new - x) < eps:\n",
    "            break\n",
    "        x = x_new\n",
    "        iter += 1\n",
    "        if iter == max_iter:\n",
    "            break\n",
    "    return x_new"
   ]
  },
  {
   "cell_type": "code",
   "execution_count": 2,
   "metadata": {
    "collapsed": true
   },
   "outputs": [],
   "source": [
    "def f(x):\n",
    "    return x**3 - 5 * x + 1\n",
    "\n",
    "def df(x):\n",
    "    return 3 * x**2 - 5"
   ]
  },
  {
   "cell_type": "code",
   "execution_count": 3,
   "metadata": {
    "collapsed": false
   },
   "outputs": [
    {
     "name": "stdout",
     "output_type": "stream",
     "text": [
      "2.1284190638445777\n",
      "0.20163967572340463\n",
      "-2.330058739567982\n"
     ]
    }
   ],
   "source": [
    "print(newton1dim(f, df, 2))\n",
    "print(newton1dim(f, df, 0))\n",
    "print(newton1dim(f, df, -3))"
   ]
  },
  {
   "cell_type": "code",
   "execution_count": 4,
   "metadata": {
    "collapsed": true
   },
   "outputs": [],
   "source": [
    "import numpy as np\n",
    "from numpy import linalg"
   ]
  },
  {
   "cell_type": "code",
   "execution_count": 6,
   "metadata": {
    "collapsed": false
   },
   "outputs": [],
   "source": [
    "class Newton:\n",
    "    def __init__(self, f, df, eps=1e-10, max_iter=1000):\n",
    "        self.f = f\n",
    "        self.df = df\n",
    "        self.eps = eps\n",
    "        self.max_iter = max_iter\n",
    "        \n",
    "    def solve(self, x0):\n",
    "        x = x0\n",
    "        iter = 0\n",
    "        self.path_ = x0.reshape(1, -1)\n",
    "        while True:\n",
    "            x_new = x - np.dot(linalg.inv(df(x)), self.f(x))\n",
    "            self.path_ = np.r_[self.path_, x_new.reshape(1, -1)]\n",
    "            if ((x - x_new)**2).sum() < self.eps*self.eps:\n",
    "                break\n",
    "            x = x_new\n",
    "            iter += 1\n",
    "            if iter == self.max_iter:\n",
    "                break\n",
    "        return x_new"
   ]
  },
  {
   "cell_type": "code",
   "execution_count": 7,
   "metadata": {
    "collapsed": true
   },
   "outputs": [],
   "source": [
    "import matplotlib.pyplot as plt\n",
    "%matplotlib inline"
   ]
  },
  {
   "cell_type": "code",
   "execution_count": 8,
   "metadata": {
    "collapsed": true
   },
   "outputs": [],
   "source": [
    "def f1(x, y):\n",
    "    return x**3 -2 * y\n",
    "\n",
    "def f2(x, y):\n",
    "    return x**2 + y**2 - 1\n",
    "\n",
    "def f(xx):\n",
    "    x = xx[0]\n",
    "    y = xx[1]\n",
    "    return np.array([f1(x, y), f2(x, y)])\n",
    "\n",
    "def df(xx):\n",
    "    x = xx[0]\n",
    "    y = xx[1]\n",
    "    return np.array([[3 * x**2, -2], [2 * x, 2 * y]])"
   ]
  },
  {
   "cell_type": "code",
   "execution_count": 9,
   "metadata": {
    "collapsed": false
   },
   "outputs": [
    {
     "name": "stdout",
     "output_type": "stream",
     "text": [
      "[0.92071038 0.39024659]\n",
      "[-0.92071038 -0.39024659]\n",
      "[-0.92071038 -0.39024659]\n"
     ]
    },
    {
     "data": {
      "image/png": "[encoded data removed]",
      "text/plain": [
       "<matplotlib.figure.Figure at 0x1100dd7f0>"
      ]
     },
     "metadata": {},
     "output_type": "display_data"
    }
   ],
   "source": [
    "xmin, xmax, ymin, ymax = -3, 3, -3, 3\n",
    "plt.xlim(xmin, xmax)\n",
    "plt.ylim(ymin, ymax)\n",
    "x = np.linspace(xmin, xmax, 200)\n",
    "y = np.linspace(ymin, ymax, 200)\n",
    "xmesh, ymesh = np.meshgrid(x, y)\n",
    "z1 = f1(xmesh, ymesh)\n",
    "z2 = f2(xmesh, ymesh)\n",
    "plt.contour(xmesh, ymesh, z1, colors='r', levels=[0])\n",
    "plt.contour(xmesh, ymesh, z2, colors='k', levels=[0])\n",
    "solver = Newton(f, df)\n",
    "\n",
    "initials = [np.array([1, 1]),\n",
    "               np.array([-1, -1]),\n",
    "               np.array([1, -1])]\n",
    "markers = ['+', '*', 'x']\n",
    "\n",
    "for x0, m in zip(initials, markers):\n",
    "    sol = solver.solve(x0)\n",
    "    plt.scatter(solver.path_[:, 0],\n",
    "                       solver.path_[:, 1],\n",
    "                        color='k',\n",
    "                       marker=m)\n",
    "    print(sol)"
   ]
  },
  {
   "cell_type": "code",
   "execution_count": null,
   "metadata": {
    "collapsed": true
   },
   "outputs": [],
   "source": []
  }
 ],
 "metadata": {
  "kernelspec": {
   "display_name": "Python [conda root]",
   "language": "python",
   "name": "conda-root-py"
  },
  "language_info": {
   "codemirror_mode": {
    "name": "ipython",
    "version": 3
   },
   "file_extension": ".py",
   "mimetype": "text/x-python",
   "name": "python",
   "nbconvert_exporter": "python",
   "pygments_lexer": "ipython3",
   "version": "3.5.2"
  }
 },
 "nbformat": 4,
 "nbformat_minor": 1
}
